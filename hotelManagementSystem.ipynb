{
 "cells": [
  {
   "cell_type": "markdown",
   "id": "cdd7df18",
   "metadata": {},
   "source": [
    "# Hotel Managemnet system"
   ]
  },
  {
   "cell_type": "code",
   "execution_count": null,
   "id": "bb5f1e57",
   "metadata": {},
   "outputs": [],
   "source": [
    "import os\n",
    "import platform \n",
    "import mysql.connector as con\n",
    "import pandas as pd\n",
    "import datetime"
   ]
  },
  {
   "cell_type": "code",
   "execution_count": 2,
   "id": "f142b746",
   "metadata": {},
   "outputs": [],
   "source": [
    "global z\n",
    "global s\n",
    "mydb=con.connect(user='root',password='1234567890',host='localhost',database='hotel')\n",
    "mycursor=mydb.cursor()"
   ]
  },
  {
   "cell_type": "code",
   "execution_count": 3,
   "id": "2513dfaa",
   "metadata": {},
   "outputs": [],
   "source": [
    "def registercust():\n",
    "    l=[]\n",
    "    custname=input(\"enter name:\")\n",
    "    l.append(custname)\n",
    "    addr=input(\"enter address:\")\n",
    "    l.append(addr)\n",
    "    indate=input(\"enter check in date(dd/mm/yyyy):\")\n",
    "    l.append(indate)\n",
    "    outdate=input(\"enter check out date(dd/mm/yyyy)\")\n",
    "    l.append(outdate)\n",
    "    cust=(l)\n",
    "    sql=\"insert into custdata(custname,addr,indate,outdate)values(%s,%s,%s,%s)\"\n",
    "    mycursor.execute(sql,cust)\n",
    "    mydb.commit()"
   ]
  },
  {
   "cell_type": "code",
   "execution_count": 4,
   "id": "b5512fb7",
   "metadata": {},
   "outputs": [],
   "source": [
    "def roomtypeview():\n",
    "    print(\"Do you want to see room type Enter 1 for yes:\")\n",
    "    ch=int(input(\"Enter your room type choice:\"))\n",
    "    if ch==1:\n",
    "        sql=\"select * from roomtype\"\n",
    "        mycursor.execute(sql)\n",
    "        rows=mycursor.fetchall()\n",
    "        for x in rows:\n",
    "            print(x)\n",
    "            "
   ]
  },
  {
   "cell_type": "code",
   "execution_count": 5,
   "id": "c64a3ffa",
   "metadata": {},
   "outputs": [],
   "source": [
    "def roomrent():\n",
    "    print(\"We have the following rooms for you:-\")\n",
    "    print(\"1. typeA --> rs 1000 PN\\-\")\n",
    "    print(\"2. typeB --> rs 2000 PN\\-\")\n",
    "    print(\"3. typeC --> rs 3000 PN\\-\")\n",
    "    print(\"4. typeD --> rs 4000 PN\\-\")\n",
    "    x=int(input(\"Enter your choice please -->\"))\n",
    "    n=int(input(\"For How Many Nights Did You Stay.\"))\n",
    "    if(x==1):\n",
    "        print(\"you have opted room type A\")\n",
    "        s=1000*n\n",
    "    elif(x==2):\n",
    "        print(\"you have opted room type B\")\n",
    "        s=2000*n\n",
    "    elif(x==3):\n",
    "        print(\"you have opted room type C\")\n",
    "        s=3000*n\n",
    "    elif(x==4):\n",
    "        print(\"you have opted room type B\")\n",
    "        s=4000*n\n",
    "    else:\n",
    "        print(\"please choose a room\")\n",
    "    print(\"your room rent is=\",s,\"\\n\")\n",
    "    "
   ]
  },
  {
   "cell_type": "code",
   "execution_count": 6,
   "id": "a4ae5d21",
   "metadata": {},
   "outputs": [],
   "source": [
    "def restaurentmenuview():\n",
    "    print(\"Do you want to see menu available :Enter 1 for yes:\")\n",
    "    ch=int(input(\"Enter your choice\"))\n",
    "    if(ch==1):\n",
    "        sql=\"select *  from restaurent\"\n",
    "        mycursor.execute(sql)\n",
    "        rows=mycursor.fetchall()\n",
    "        for x in rows:\n",
    "            print(x)"
   ]
  },
  {
   "cell_type": "code",
   "execution_count": 7,
   "id": "4e471615",
   "metadata": {},
   "outputs": [],
   "source": [
    "def orderitem():\n",
    "    global s\n",
    "    print(\"Do you want choose menu available: Enter 1 or yes:\")\n",
    "    ch=int(input(\"Enter your choice\"))\n",
    "    if(ch==1):\n",
    "        sql=\"select *  from restaurent\"\n",
    "        mycursor.execute(sql)\n",
    "        rows=mycursor.fetchall()\n",
    "        for x in rows:\n",
    "            print(x)\n",
    "    print(\"DO you want to purchase from above list :enter your choice:\")\n",
    "    d=int(input(\"Enter your choice:\"))\n",
    "    if(d==1):\n",
    "        print(\"You have ordered tea\")\n",
    "        a=int(input(\"Enter quantity\"))\n",
    "        s=10*a\n",
    "        print(\"you amount for tea is:\",s,\"\\n\")\n",
    "    elif(d==2):\n",
    "        print(\"You have ordered coffee\")\n",
    "        a=int(input(\"Enter quantity\"))\n",
    "        s=10*a\n",
    "        print(\"you amount for coffee is:\",s,\"\\n\")\n",
    "    elif(d==3):\n",
    "        print(\"You have ordered colddrink\")\n",
    "        a=int(input(\"Enter quantity\"))\n",
    "        s=20*a\n",
    "        print(\"you amount for colddrink is:\",s,\"\\n\")\n",
    "    elif(d==4):\n",
    "        print(\"You have ordered samosa\")\n",
    "        a=int(input(\"Enter quantity\"))\n",
    "        s=10*a\n",
    "        print(\"you amount for samosa is:\",s,\"\\n\")\n",
    "    elif(d==5):\n",
    "        print(\"You have ordered Sandwich\")\n",
    "        a=int(input(\"Enter quantity\"))\n",
    "        s=50*a\n",
    "        print(\"you amount for sandwich is:\",s,\"\\n\")\n",
    "    elif(d==6):\n",
    "        print(\"You have ordered dhokla\")\n",
    "        a=int(input(\"Enter quantity\"))\n",
    "        s=30*a\n",
    "        print(\"you amount for dhokla is:\",s,\"\\n\")\n",
    "    elif(d==7):\n",
    "        print(\"You have ordered Kachori\")\n",
    "        a=int(input(\"Enter quantity\"))\n",
    "        s=10*a\n",
    "        print(\"you amount for kachori is:\",s,\"\\n\")\n",
    "    elif(d==8):\n",
    "        print(\"You have ordered milk\")\n",
    "        a=int(input(\"Enter quantity\"))\n",
    "        s=20*a\n",
    "        print(\"you amount for milk is:\",s,\"\\n\")\n",
    "    elif(d==9):\n",
    "        print(\"You have ordered noodles\")\n",
    "        a=int(input(\"Enter quantity\"))\n",
    "        s=50*a\n",
    "        print(\"you amount for noodles is:\",s,\"\\n\")\n",
    "    elif(d==10):\n",
    "        print(\"You have ordered pasta\")\n",
    "        a=int(input(\"Enter quantity\"))\n",
    "        s=50*a\n",
    "        print(\"you amount for pasta is:\",s,\"\\n\")\n",
    "    elif(d==11):\n",
    "        print(\"You have ordered pizza\")\n",
    "        a=int(input(\"Enter quantity\"))\n",
    "        s=80*a\n",
    "        print(\"you amount for pizza is:\",s,\"\\n\")\n",
    "    elif(d==12):\n",
    "        print(\"You have ordered burger\")\n",
    "        a=int(input(\"Enter quantity\"))\n",
    "        s=50*a\n",
    "        print(\"you amount for burger is:\",s,\"\\n\")\n",
    "    else:\n",
    "        print(\"please enter your choice from the menu\")"
   ]
  },
  {
   "cell_type": "code",
   "execution_count": 8,
   "id": "4dc3168c",
   "metadata": {},
   "outputs": [],
   "source": [
    "def laundarybill():\n",
    "    global z\n",
    "    print(\"DO you want to see rate for laundary : enter 1 for yes:\")\n",
    "    ch=int(input(\"Enter your choice\"))\n",
    "    if(ch==1):\n",
    "        sql=\"select *  from laundary\"\n",
    "        mycursor.execute(sql)\n",
    "        rows=mycursor.fetchall()\n",
    "        for x in rows:\n",
    "            print(x) \n",
    "    y=int(input(\"Enter your number of clothes->\"))\n",
    "    z=y*10\n",
    "    print(\"Your laundary bill: \",z,\"\\n\")\n",
    "    return z"
   ]
  },
  {
   "cell_type": "code",
   "execution_count": 9,
   "id": "142caca9",
   "metadata": {},
   "outputs": [],
   "source": [
    "def lb():\n",
    "    y=int(input(\"Enter your number of clothes->\"))\n",
    "    z=y*10\n",
    "    print(\"Your laundary bill: \",z)\n"
   ]
  },
  {
   "cell_type": "code",
   "execution_count": 10,
   "id": "cd2e8677",
   "metadata": {},
   "outputs": [],
   "source": [
    "def viewbill():\n",
    "    registercust()\n",
    "    roomrent()\n",
    "    orderitem()\n",
    "    lb()\n"
   ]
  },
  {
   "cell_type": "code",
   "execution_count": null,
   "id": "b234847e",
   "metadata": {},
   "outputs": [
    {
     "name": "stdout",
     "output_type": "stream",
     "text": [
      "Enter 1: to Enter customer data\n",
      "Enter 2: to view roomtype\n",
      "Enter 3: to calculating room bill\n",
      "Enter 4: to viewing restaurent menu\n",
      "Enter 5: to restaurent bill\n",
      "Enter 6: to laundary bill\n",
      "Enter 7: to complete bill\n",
      "Enter 8: to Exit\n"
     ]
    }
   ],
   "source": [
    "def Menuset():\n",
    "    print(\"Enter 1: to Enter customer data\")\n",
    "    print(\"Enter 2: to view roomtype\")\n",
    "    print(\"Enter 3: to calculating room bill\")\n",
    "    print(\"Enter 4: to viewing restaurent menu\")\n",
    "    print(\"Enter 5: to restaurent bill\")\n",
    "    print(\"Enter 6: to laundary bill\")\n",
    "    print(\"Enter 7: to complete bill\")\n",
    "    print(\"Enter 8: to Exit\")\n",
    "    try:\n",
    "        pass\n",
    "    except valueError:\n",
    "        exit(\"\\n hi that not a number\")\n",
    "    \n",
    "    userinput=int(input(\"enter your choice\"))\n",
    "    if(userinput==1):\n",
    "        registercust()\n",
    "    elif(userinput==2):\n",
    "        roomtypeview()\n",
    "    elif(userinput==3):\n",
    "        roomrent()\n",
    "    elif(userinput==4):\n",
    "        restaurentmenuview()\n",
    "    elif(userinput==5):\n",
    "        orderitem()\n",
    "    elif(userinput==6):\n",
    "        laundarybill()\n",
    "    elif(userinput==7):\n",
    "        viewbill()\n",
    "    elif(userinput==8):\n",
    "        quit()\n",
    "    else:\n",
    "        print(\"Enter correct choice\")\n",
    "Menuset()\n",
    "    "
   ]
  },
  {
   "cell_type": "code",
   "execution_count": null,
   "id": "0eac814e",
   "metadata": {},
   "outputs": [],
   "source": [
    "def runagain():\n",
    "    runagn=input=(\"\\n Do you want run again y/n:\")\n",
    "    while(runagn.lower()=='y'):\n",
    "        if(platform.system()==\"windows\"):\n",
    "            print(os.system('cls'))\n",
    "        else:\n",
    "            print(os.system('clear'))\n",
    "        Menuset()\n",
    "        runagn=input(\"\\n want to run agian y/n:\")"
   ]
  },
  {
   "cell_type": "code",
   "execution_count": null,
   "id": "d0e81e0e",
   "metadata": {},
   "outputs": [],
   "source": [
    "runagain()"
   ]
  },
  {
   "cell_type": "code",
   "execution_count": null,
   "id": "04b96cd2",
   "metadata": {},
   "outputs": [],
   "source": []
  }
 ],
 "metadata": {
  "kernelspec": {
   "display_name": "Python 3 (ipykernel)",
   "language": "python",
   "name": "python3"
  },
  "language_info": {
   "codemirror_mode": {
    "name": "ipython",
    "version": 3
   },
   "file_extension": ".py",
   "mimetype": "text/x-python",
   "name": "python",
   "nbconvert_exporter": "python",
   "pygments_lexer": "ipython3",
   "version": "3.9.12"
  }
 },
 "nbformat": 4,
 "nbformat_minor": 5
}
